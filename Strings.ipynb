{
 "cells": [
  {
   "cell_type": "code",
   "execution_count": 5,
   "id": "c4fee823",
   "metadata": {},
   "outputs": [
    {
     "name": "stdout",
     "output_type": "stream",
     "text": [
      "Hellooo\n",
      "<class 'str'>\n",
      "hy\n"
     ]
    }
   ],
   "source": [
    "#Strings are enclosed with Double quotes or single quotes\n",
    "##Strings are sequence of character\n",
    "\n",
    "print(\"Hellooo\")\n",
    "print(type('hy'))\n",
    "print('hy')"
   ]
  },
  {
   "cell_type": "code",
   "execution_count": 23,
   "id": "dc95823f",
   "metadata": {},
   "outputs": [
    {
     "name": "stdout",
     "output_type": "stream",
     "text": [
      "helloooo\n",
      "janiyyy\n",
      "helloooo'janiyyy\n",
      "helloooo\"janiyyy\n",
      "helloooo\\janiyyy\n",
      "helloooo\u0007janiyyy\n",
      "helloooo\f",
      "janiyyy\n",
      "helloooo\tjaniyyy\n",
      "helloooo\bjaniyyy\n"
     ]
    }
   ],
   "source": [
    "#Special Characters\n",
    "\n",
    "##new line \\n\n",
    "print(\"helloooo\\njaniyyy\")\n",
    "\n",
    "#\\' - need for character literals\n",
    "print(\"helloooo\\'janiyyy\")\n",
    "\n",
    "#\\\"\" - need for String literals\n",
    "print(\"helloooo\\\"janiyyy\")\n",
    "\n",
    "#\\\\ nedd for string literals\n",
    "print(\"helloooo\\\\janiyyy\")\n",
    "\n",
    "#\\a aleart\n",
    "print(\"helloooo\\ajaniyyy\")\n",
    "\n",
    "#\\f form feed\n",
    "print(\"helloooo\\fjaniyyy\")\n",
    "\n",
    "#t\\t horizontal tab\n",
    "print(\"helloooo\\tjaniyyy\")\n",
    "\n",
    "#t\\b horizontal tab\n",
    "print(\"helloooo\\bjaniyyy\")"
   ]
  },
  {
   "cell_type": "code",
   "execution_count": 24,
   "id": "2e266a49",
   "metadata": {},
   "outputs": [
    {
     "name": "stdout",
     "output_type": "stream",
     "text": [
      "DeepuGhyanesh\n"
     ]
    }
   ],
   "source": [
    "##String concatenation\n",
    "## Adding strings\n",
    "\n",
    "FirstName=\"Rakshitha\"\n",
    "SecondName=\"Ghyanesh\"\n",
    "FullName=FirstName+SecondName\n",
    "print(FullName)\n"
   ]
  },
  {
   "cell_type": "code",
   "execution_count": 1,
   "id": "82c485e9",
   "metadata": {},
   "outputs": [
    {
     "name": "stdout",
     "output_type": "stream",
     "text": [
      "A tiny seed lay buried deep in the earth.\n",
      "It dreamed of sunlight and rain, of growing tall and strong. One day,\n",
      "a drop of water trickled down, awakening the seed.\n",
      "Then another, and another\n",
      "\n"
     ]
    }
   ],
   "source": [
    "#Multi Line Strings\n",
    "# enclosed with ''' quotes\n",
    "\n",
    "Str1= '''A tiny seed lay buried deep in the earth.\n",
    "It dreamed of sunlight and rain, of growing tall and strong. One day,\n",
    "a drop of water trickled down, awakening the seed.\n",
    "Then another, and another\n",
    "'''\n",
    "\n",
    "print(Str1)"
   ]
  },
  {
   "cell_type": "code",
   "execution_count": 2,
   "id": "c9083600",
   "metadata": {},
   "outputs": [
    {
     "name": "stdout",
     "output_type": "stream",
     "text": [
      "A\n",
      "h\n",
      "i\n",
      "A tiny s\n",
      "iny\n",
      "htrae eht ni peed deirub yal dees ynit A\n",
      "htrae eht ni peed deirub yal dees\n",
      " tiny seed lay buried deep in the eart\n"
     ]
    }
   ],
   "source": [
    "## accessing string chracter using index\n",
    "##Or extracting character from the string\n",
    "\n",
    "\n",
    "str1=\"A tiny seed lay buried deep in the earth\"\n",
    "\n",
    "##exttracting 1st index character\n",
    "print(str1[0])\n",
    "\n",
    "##exttracting last index character\n",
    "print(str1[-1])\n",
    "\n",
    "\n",
    "##exttracting 5th index character\n",
    "print(str1[3])\n",
    "\n",
    "\n",
    "##print from 0 index to 7th index that is D to h\n",
    "print(str1[:8])\n",
    "\n",
    "print(str1[3:6])\n",
    "\n",
    "##display string from last index that is -1\n",
    "print(str1[::-1])\n",
    "\n",
    "print(str1[:6:-1])\n",
    "\n",
    "print(str1[1:-1])"
   ]
  },
  {
   "cell_type": "markdown",
   "id": "2354320c",
   "metadata": {},
   "source": [
    "# string Manipulation\n",
    "#Python Inbuilt Methods\n"
   ]
  },
  {
   "cell_type": "code",
   "execution_count": 3,
   "id": "d519d51b",
   "metadata": {},
   "outputs": [
    {
     "name": "stdout",
     "output_type": "stream",
     "text": [
      "Awakening the seed\n",
      "18\n",
      "awakening the seed\n",
      "AWAKENING THE SEED\n",
      "awakening the seed\n",
      "-1\n",
      "AWAKENING THE SEED\n",
      "['awakening', 'the', 'seed']\n",
      "False\n",
      "True\n",
      "False\n"
     ]
    }
   ],
   "source": [
    "str1=\"awakening the seed\"\n",
    "#Capitalize()- Conver first character of the string into Uppercase\n",
    "print(str1.capitalize())\n",
    "\n",
    "#len() -returns length of the string\n",
    "print(len(str1))\n",
    "\n",
    "#casefold()-conver string into lowercase\n",
    "print(str1.casefold())\n",
    "\n",
    "#upper()- convert the string into uppercase\n",
    "print(str1.upper())\n",
    "\n",
    "#lower- convert the string into uppercase\n",
    "print(str1.lower())\n",
    "\n",
    "#find() - find the characters index\n",
    "print(str1.find(\"G\"))\n",
    "\n",
    "#swapcase()-conver uppercase into lower and lower into upper\n",
    "print(str1.swapcase())\n",
    "\n",
    "#split()- split the string and retuns a list\n",
    "print(str1.split())\n",
    "\n",
    "#isupper()- return s true if string is in uppercase\n",
    "print(str1.isupper())\n",
    "\n",
    "#islower()- return s true if string is in lowercase\n",
    "print(str1.islower())\n",
    "\n",
    "#isnumeric()-returns true if all character in the strings are numeric\n",
    "print(str1.isnumeric())"
   ]
  },
  {
   "cell_type": "code",
   "execution_count": null,
   "id": "0f8a3d5b",
   "metadata": {},
   "outputs": [],
   "source": []
  }
 ],
 "metadata": {
  "kernelspec": {
   "display_name": "Python 3 (ipykernel)",
   "language": "python",
   "name": "python3"
  },
  "language_info": {
   "codemirror_mode": {
    "name": "ipython",
    "version": 3
   },
   "file_extension": ".py",
   "mimetype": "text/x-python",
   "name": "python",
   "nbconvert_exporter": "python",
   "pygments_lexer": "ipython3",
   "version": "3.9.12"
  }
 },
 "nbformat": 4,
 "nbformat_minor": 5
}
