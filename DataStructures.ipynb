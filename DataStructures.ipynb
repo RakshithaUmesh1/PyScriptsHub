{
 "cells": [
  {
   "cell_type": "markdown",
   "id": "938239e2",
   "metadata": {},
   "source": [
    "# Datastructure: storing data in efficient manner\n"
   ]
  },
  {
   "cell_type": "markdown",
   "id": "cb669d44",
   "metadata": {},
   "source": [
    "# List Data structure\n",
    "\n",
    "data stored as list\n",
    "list stroes data within [](square brackets)\n",
    "A list in Python is a versatile, ordered, and mutable data structure used to store collections of items. These items can be of various data types, including integers, strings, and even other lists.\n",
    "\n",
    "Key characteristics of Python lists:\n",
    "Ordered: Lists maintain the order in which elements are added, allowing access by index (starting from 0).\n",
    "Mutable: Lists can be modified after creation, allowing for the addition, removal, or changing of elements.\n",
    "Heterogeneous: Lists can store elements of different data types.\n",
    "Dynamic Size: The size of a list can grow or shrink as needed during program execution.\n",
    "Duplicates Allowed: Lists can contain duplicate values."
   ]
  },
  {
   "cell_type": "code",
   "execution_count": 5,
   "id": "9f31481f",
   "metadata": {},
   "outputs": [
    {
     "name": "stdout",
     "output_type": "stream",
     "text": [
      "['Apple', 'Mango', 'Orange']\n",
      "[6, 72, 3, 1, 9]\n",
      "['a', 8, 9, 'jani', 65, 'Deepz', 72, True]\n"
     ]
    }
   ],
   "source": [
    "fruits=[\"Apple\",\"Mango\",\"Orange\"]\n",
    "print(fruits)\n",
    "\n",
    "nums=[6,72,3,1,9]\n",
    "print(nums)\n",
    "\n",
    "listss=['a',8,9,'jani',65,\"Deepz\",72,True]\n",
    "print(listss)"
   ]
  },
  {
   "cell_type": "code",
   "execution_count": 16,
   "id": "c10e7887",
   "metadata": {},
   "outputs": [
    {
     "name": "stdout",
     "output_type": "stream",
     "text": [
      "9\n",
      "True\n",
      "a\n",
      "['a', 8, 9, 'jani', 65, 'Deepz', 72, True]\n",
      "[65, 'Deepz']\n",
      "[True, 72, 'Deepz', 65, 'jani', 9, 8, 'a']\n",
      "[True, 72, 'Deepz', 65, 'jani']\n"
     ]
    }
   ],
   "source": [
    "##Accessing list using its index\n",
    "listss=['a',8,9,'jani',65,\"Deepz\",72,True]\n",
    "\n",
    "print(listss[2])\n",
    "\n",
    "#accessing last index\n",
    "print(listss[-1])\n",
    "\n",
    "#accessing first index\n",
    "print(listss[0])\n",
    "\n",
    "#accessing within range\n",
    "\n",
    "print(listss[:])\n",
    "\n",
    "print(listss[4:6])\n",
    "\n",
    "##accessing elemnts in reverse order\n",
    "print(listss[::-1])\n",
    "\n",
    "print(listss[:2:-1])\n"
   ]
  },
  {
   "cell_type": "code",
   "execution_count": 12,
   "id": "ff52d147",
   "metadata": {},
   "outputs": [
    {
     "name": "stdout",
     "output_type": "stream",
     "text": [
      "2\n",
      "6\n"
     ]
    }
   ],
   "source": [
    "##get the index of element using index()\n",
    "listss=['a',8,9,'jani',65,\"Deepz\",72,True]\n",
    "print(listss.index(9))\n",
    "\n",
    "print(listss.index(72))"
   ]
  },
  {
   "cell_type": "code",
   "execution_count": 21,
   "id": "e9948c7b",
   "metadata": {},
   "outputs": [
    {
     "name": "stdout",
     "output_type": "stream",
     "text": [
      "['a', 8, 'BABy', 'jani', 65, 'Deepz', 72, True]\n",
      "BABy\n"
     ]
    }
   ],
   "source": [
    "##Replacing list elemets with another value\n",
    "\n",
    "listss=['a',8,9,'jani',65,\"Deepz\",72,True]\n",
    "listss[2]=\"BABy\"\n",
    "print(listss)\n",
    "print(listss[2])"
   ]
  },
  {
   "cell_type": "markdown",
   "id": "402f60fd",
   "metadata": {},
   "source": [
    "# List Methods"
   ]
  },
  {
   "cell_type": "code",
   "execution_count": 44,
   "id": "8a14e283",
   "metadata": {},
   "outputs": [
    {
     "name": "stdout",
     "output_type": "stream",
     "text": [
      "['a', 8, 45, 'jani', 65, 'Deepz', 72, True, 54, 'Baby', False]\n",
      "['a', 8, 45, 'jani', 65, 'Deepz', 72, True, 54, 'Baby', False, 'banana']\n",
      "['a', 8, 'dixa', 45, 'jani', 65, 'Deepz', 72, True, 54, 'Baby', False, 'banana']\n",
      "['a', 8, 'dixa', 45, 'jani', 65, 'Deepz', 72, True, 54, 'Baby', False]\n",
      "['a', 8, 'dixa', 45, 'jani', 65, 'Deepz', 72, True, 54, 'Baby']\n",
      "[]\n"
     ]
    }
   ],
   "source": [
    "listss=['a',8,45,'jani',65,\"Deepz\",72,True,54,\"Baby\",False,\"jani\"]\n",
    "print(listss)\n",
    "\n",
    "##append() method to add elemnts at the end\n",
    "listss.append(\"banana\")\n",
    "print(listss)\n",
    "\n",
    "\n",
    "##insert() method to insert value at given position \n",
    "listss.insert(2,\"dixa\")\n",
    "print(listss)\n",
    "\n",
    "##Remove() to remove the elemnt from the list\n",
    "\n",
    "listss.remove(\"banana\")\n",
    "print(listss)\n",
    "\n",
    "##Remove the last elements\n",
    "listss.pop()\n",
    "print(listss)\n",
    "\n",
    "##clear() clear all the elemnt from the list\n",
    "listss.clear()\n",
    "print(listss)\n"
   ]
  },
  {
   "cell_type": "code",
   "execution_count": 45,
   "id": "cd116199",
   "metadata": {},
   "outputs": [
    {
     "name": "stdout",
     "output_type": "stream",
     "text": [
      "True\n"
     ]
    }
   ],
   "source": [
    "# in operator to check wheather element is present or not within the list\n",
    "\n",
    "listss=['a',8,45,'jani',65,\"Deepz\",72,True,54,\"Baby\",False]\n",
    "print(\"jani\" in listss)\n"
   ]
  },
  {
   "cell_type": "code",
   "execution_count": 46,
   "id": "3f479fdd",
   "metadata": {},
   "outputs": [
    {
     "name": "stdout",
     "output_type": "stream",
     "text": [
      "2\n"
     ]
    }
   ],
   "source": [
    "##count() to count the number of appearence of the given elemnt\n",
    "\n",
    "listss=['a',8,45,'jani',65,\"Deepz\",72,True,54,\"Baby\",False,\"jani\"]\n",
    "print(listss.count(\"jani\"))"
   ]
  },
  {
   "cell_type": "code",
   "execution_count": 49,
   "id": "766ef6ae",
   "metadata": {},
   "outputs": [
    {
     "name": "stdout",
     "output_type": "stream",
     "text": [
      "[0, 2, 4, 8, 18, 23, 45, 72, 89]\n",
      "['Banana', 'Grapes', 'apple', 'chikkuu', 'jani', 'mango']\n"
     ]
    }
   ],
   "source": [
    "##sort() sort list in asceneding or decending order or alphabetic order\n",
    "list1=[4,2,8,72,89,23,18,0,45]\n",
    "list1.sort()\n",
    "print(list1)\n",
    "\n",
    "list2=[\"mango\",\"jani\",\"Banana\",\"Grapes\",\"chikkuu\",\"apple\"]\n",
    "list2.sort()\n",
    "print(list2)\n"
   ]
  },
  {
   "cell_type": "code",
   "execution_count": 51,
   "id": "b2244b3d",
   "metadata": {},
   "outputs": [
    {
     "name": "stdout",
     "output_type": "stream",
     "text": [
      "[45, 0, 18, 23, 89, 72, 8, 2, 4]\n",
      "['apple', 'chikkuu', 'Grapes', 'Banana', 'jani', 'mango']\n"
     ]
    }
   ],
   "source": [
    "##revser() to reverse the list\n",
    "\n",
    "list1=[4,2,8,72,89,23,18,0,45]\n",
    "list1.reverse()\n",
    "print(list1)\n",
    "\n",
    "list2=[\"mango\",\"jani\",\"Banana\",\"Grapes\",\"chikkuu\",\"apple\"]\n",
    "list2.reverse()\n",
    "print(list2)"
   ]
  },
  {
   "cell_type": "code",
   "execution_count": 52,
   "id": "3494f139",
   "metadata": {},
   "outputs": [
    {
     "name": "stdout",
     "output_type": "stream",
     "text": [
      "[4, 2, 8, 72, 89, 23, 18, 0, 45]\n"
     ]
    }
   ],
   "source": [
    "##copy() to copy list to another list\n",
    "\n",
    "list1=[4,2,8,72,89,23,18,0,45]\n",
    "number_copy=list1.copy()\n",
    "print(number_copy)"
   ]
  },
  {
   "cell_type": "code",
   "execution_count": 53,
   "id": "4d46b956",
   "metadata": {},
   "outputs": [
    {
     "name": "stdout",
     "output_type": "stream",
     "text": [
      "[4, 2, 8, 72, 89, 23, 18, 0, 45, 'gh', 9, 4, 'jani', 'grapes', 0, 72]\n"
     ]
    }
   ],
   "source": [
    "##extend() to extend the list by combining it\n",
    "\n",
    "list1=[4,2,8,72,89,23,18,0,45]\n",
    "list3=['gh',9,4,\"jani\",\"grapes\",0,72]\n",
    "\n",
    "list1.extend(list3)  \n",
    "print(list1)"
   ]
  },
  {
   "cell_type": "code",
   "execution_count": null,
   "id": "3678d6a8",
   "metadata": {},
   "outputs": [],
   "source": []
  }
 ],
 "metadata": {
  "kernelspec": {
   "display_name": "Python 3 (ipykernel)",
   "language": "python",
   "name": "python3"
  },
  "language_info": {
   "codemirror_mode": {
    "name": "ipython",
    "version": 3
   },
   "file_extension": ".py",
   "mimetype": "text/x-python",
   "name": "python",
   "nbconvert_exporter": "python",
   "pygments_lexer": "ipython3",
   "version": "3.9.12"
  }
 },
 "nbformat": 4,
 "nbformat_minor": 5
}
