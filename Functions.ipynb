{
 "cells": [
  {
   "cell_type": "code",
   "execution_count": 1,
   "id": "129bb359",
   "metadata": {},
   "outputs": [
    {
     "name": "stdout",
     "output_type": "stream",
     "text": [
      "my functn\n"
     ]
    }
   ],
   "source": [
    "##def keyword used to define a function\n",
    "def myfunctn():\n",
    "    print(\"my functn\")\n",
    "#calling the function\n",
    "myfunctn() "
   ]
  },
  {
   "cell_type": "code",
   "execution_count": 17,
   "id": "c91ccf98",
   "metadata": {},
   "outputs": [
    {
     "data": {
      "text/plain": [
       "True"
      ]
     },
     "execution_count": 17,
     "metadata": {},
     "output_type": "execute_result"
    }
   ],
   "source": [
    "def is_true():\n",
    "    return True\n",
    "is_true()"
   ]
  },
  {
   "cell_type": "code",
   "execution_count": 4,
   "id": "fc0e448b",
   "metadata": {},
   "outputs": [
    {
     "name": "stdout",
     "output_type": "stream",
     "text": [
      "25\n"
     ]
    },
    {
     "data": {
      "text/plain": [
       "25"
      ]
     },
     "execution_count": 4,
     "metadata": {},
     "output_type": "execute_result"
    }
   ],
   "source": [
    "def myfunc():\n",
    "    a=10\n",
    "    b=15\n",
    "    print(a+b)\n",
    "    return a+b\n",
    "myfunc()"
   ]
  },
  {
   "cell_type": "code",
   "execution_count": 5,
   "id": "f84da4f2",
   "metadata": {},
   "outputs": [
    {
     "data": {
      "text/plain": [
       "20"
      ]
     },
     "execution_count": 5,
     "metadata": {},
     "output_type": "execute_result"
    }
   ],
   "source": [
    "##Function parameter -temporary placeholder\n",
    "\n",
    "def myfun(a,b):\n",
    "    return a+b\n",
    "##passing argument\n",
    "myfun(10,10)"
   ]
  },
  {
   "cell_type": "code",
   "execution_count": 6,
   "id": "6c15ed18",
   "metadata": {},
   "outputs": [
    {
     "name": "stdout",
     "output_type": "stream",
     "text": [
      "hijani\n"
     ]
    }
   ],
   "source": [
    "def myname(name):\n",
    "    print(\"hi \"+name)\n",
    "myname(\"Jhon\")"
   ]
  },
  {
   "cell_type": "code",
   "execution_count": 10,
   "id": "70bd6257",
   "metadata": {},
   "outputs": [
    {
     "name": "stdout",
     "output_type": "stream",
     "text": [
      "my name is jani i am a gay\n"
     ]
    }
   ],
   "source": [
    "##multiple paramter\n",
    "def myname(fname,lname):\n",
    "    print(\"my name is \"+fname+lname)\n",
    "myname(\"jani\",\"madi\")"
   ]
  },
  {
   "cell_type": "code",
   "execution_count": 18,
   "id": "a5ddb754",
   "metadata": {},
   "outputs": [
    {
     "name": "stdout",
     "output_type": "stream",
     "text": [
      "my name is janichopra\n"
     ]
    }
   ],
   "source": [
    "def myname(fname,lname):\n",
    "    print(\"my name is \"+fname+lname)\n",
    "##named argument\n",
    "myname(lname=\"chopra\",fname=\"jani\")"
   ]
  },
  {
   "cell_type": "markdown",
   "id": "03e8d583",
   "metadata": {},
   "source": [
    "# Return statement\n",
    "\n",
    "when return statemnet hit execution of the function will end"
   ]
  },
  {
   "cell_type": "code",
   "execution_count": 12,
   "id": "80e8ea23",
   "metadata": {},
   "outputs": [
    {
     "data": {
      "text/plain": [
       "15"
      ]
     },
     "execution_count": 12,
     "metadata": {},
     "output_type": "execute_result"
    }
   ],
   "source": [
    "def sum(a,b):\n",
    "    return a+b\n",
    "sum(6,9)"
   ]
  },
  {
   "cell_type": "code",
   "execution_count": 14,
   "id": "23620750",
   "metadata": {},
   "outputs": [
    {
     "data": {
      "text/plain": [
       "4"
      ]
     },
     "execution_count": 14,
     "metadata": {},
     "output_type": "execute_result"
    }
   ],
   "source": [
    "##when return statemnet hit execution of the function will end\n",
    "\n",
    "def sub(a,b):\n",
    "    return a-b\n",
    "    print(\"this is sub\")\n",
    "sub(7,3)"
   ]
  },
  {
   "cell_type": "code",
   "execution_count": 16,
   "id": "3385e929",
   "metadata": {},
   "outputs": [
    {
     "data": {
      "text/plain": [
       "35"
      ]
     },
     "execution_count": 16,
     "metadata": {},
     "output_type": "execute_result"
    }
   ],
   "source": [
    "def multi():\n",
    "    return 5*7\n",
    "    print(\"hey\")\n",
    "multi()"
   ]
  },
  {
   "cell_type": "code",
   "execution_count": null,
   "id": "dca6caa3",
   "metadata": {},
   "outputs": [],
   "source": []
  }
 ],
 "metadata": {
  "kernelspec": {
   "display_name": "Python 3 (ipykernel)",
   "language": "python",
   "name": "python3"
  },
  "language_info": {
   "codemirror_mode": {
    "name": "ipython",
    "version": 3
   },
   "file_extension": ".py",
   "mimetype": "text/x-python",
   "name": "python",
   "nbconvert_exporter": "python",
   "pygments_lexer": "ipython3",
   "version": "3.9.12"
  }
 },
 "nbformat": 4,
 "nbformat_minor": 5
}
