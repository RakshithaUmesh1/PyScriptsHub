{
 "cells": [
  {
   "cell_type": "markdown",
   "id": "03688830",
   "metadata": {},
   "source": [
    "# Dictionaries\n",
    "In Python, a dictionary is a built-in data type used to store data in key-value pairs.\n",
    "It is an unordered collection (in Python versions prior to 3.7, dictionaries were explicitly unordered; from Python 3.7 onwards, \n",
    "they maintain insertion order) where each unique key maps to a specific value. \n",
    "\n",
    "Key-Value Pairs:\n",
    "Data is organized as key:value pairs, similar to words and their definitions in a physical dictionary.\n",
    "Mutable:Dictionaries are mutable, meaning their contents (adding, removing, or modifying key-value pairs) can be changed after creation.\n",
    "Keys must be immutable and unique:\n",
    "Dictionary keys must be of an immutable data type (e.g., strings, numbers, tuples) and must be unique within a single dictionary. Values can be of any data type."
   ]
  },
  {
   "cell_type": "code",
   "execution_count": 11,
   "id": "ed8d0ee9",
   "metadata": {},
   "outputs": [
    {
     "name": "stdout",
     "output_type": "stream",
     "text": [
      "{'name': 'JAni', 'Number': 72040117890, 'email': 'Deepumadiwalzz'}\n",
      "JAni\n",
      "72040117890\n",
      "{'name': 'JAni', 'Number': 72040117890, 'email': 'Deepumadiwalzz'}\n"
     ]
    }
   ],
   "source": [
    "names={\"name\":\"Jani\",\"Number\":65364363767,\"email\":\"xyz@gmail.com\"}\n",
    "\n",
    "print(names)\n",
    "\n",
    "##Accessing value using key\n",
    "print(names[\"name\"])\n",
    "print(names[\"Number\"])\n",
    "\n",
    "print(names)"
   ]
  },
  {
   "cell_type": "code",
   "execution_count": 18,
   "id": "405e4ff0",
   "metadata": {},
   "outputs": [
    {
     "name": "stdout",
     "output_type": "stream",
     "text": [
      "JAni\n",
      "None\n",
      "None its not exist\n"
     ]
    }
   ],
   "source": [
    "#get()-return value if key is present\n",
    "names={\"name\":\"Jani\",\"Number\":65364363767,\"email\":\"xyz@gmail.com\"}\n",
    "\n",
    "print(names.get(\"name\"))\n",
    "#return none if its not present\n",
    "print(names.get(\"photo\"))\n",
    "print(names.get(\"photo\"),\"its not exist\")"
   ]
  },
  {
   "cell_type": "code",
   "execution_count": 19,
   "id": "6d0965e7",
   "metadata": {},
   "outputs": [
    {
     "name": "stdout",
     "output_type": "stream",
     "text": [
      "{'name': 'JAni', 'Number': 72040117890, 'email': 'Deepumadiwalzz', 'age': 72}\n"
     ]
    }
   ],
   "source": [
    "##Adding new kwy value\n",
    "names={\"name\":\"Jani\",\"Number\":65364363767,\"email\":\"xyz@gmail.com\"}\n",
    "\n",
    "names[\"age\"]=72\n",
    "print(names)\n"
   ]
  },
  {
   "cell_type": "code",
   "execution_count": 21,
   "id": "55f373b8",
   "metadata": {},
   "outputs": [
    {
     "name": "stdout",
     "output_type": "stream",
     "text": [
      "{'name': 'JAni', 'Number': 72040117890, 'email': 'Deepumadiwalzz', 'age': 72}\n",
      "{'name': 'JAni', 'Number': 9108592464, 'email': 'Deepumadiwalzz', 'age': 72}\n"
     ]
    }
   ],
   "source": [
    "#updating the value\n",
    "\n",
    "names={\"name\":\"Jani\",\"Number\":65364363767,\"email\":\"xyz@gmail.com\"}\n",
    "names[\"age\"]=72\n",
    "print(names)\n",
    "\n",
    "names[\"Number\"]=9108592464\n",
    "print(names)"
   ]
  },
  {
   "cell_type": "code",
   "execution_count": null,
   "id": "bd67a447",
   "metadata": {},
   "outputs": [],
   "source": []
  }
 ],
 "metadata": {
  "kernelspec": {
   "display_name": "Python 3 (ipykernel)",
   "language": "python",
   "name": "python3"
  },
  "language_info": {
   "codemirror_mode": {
    "name": "ipython",
    "version": 3
   },
   "file_extension": ".py",
   "mimetype": "text/x-python",
   "name": "python",
   "nbconvert_exporter": "python",
   "pygments_lexer": "ipython3",
   "version": "3.9.12"
  }
 },
 "nbformat": 4,
 "nbformat_minor": 5
}
