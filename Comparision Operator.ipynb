{
 "cells": [
  {
   "cell_type": "markdown",
   "id": "cd716fdc",
   "metadata": {},
   "source": [
    "Comparission Operator : to comapre 2 values"
   ]
  },
  {
   "cell_type": "code",
   "execution_count": 3,
   "id": "14b6ab8f",
   "metadata": {},
   "outputs": [
    {
     "name": "stdout",
     "output_type": "stream",
     "text": [
      "True\n",
      "True\n"
     ]
    }
   ],
   "source": [
    "# > - greater than\n",
    "\n",
    "a=6\n",
    "b=9\n",
    "\n",
    "if b > a :\n",
    "     print(True)\n",
    "else :\n",
    "     print(False)\n",
    "        \n",
    "# >= - greater than or Equals to\n",
    "\n",
    "a=72\n",
    "b=72\n",
    "\n",
    "if a >= b :\n",
    "    print(True)\n",
    "else:\n",
    "    print(False)"
   ]
  },
  {
   "cell_type": "code",
   "execution_count": 5,
   "id": "7bc61675",
   "metadata": {},
   "outputs": [
    {
     "name": "stdout",
     "output_type": "stream",
     "text": [
      "True\n",
      "True\n"
     ]
    }
   ],
   "source": [
    "# < - lesser than\n",
    "\n",
    "a=10\n",
    "b=12\n",
    "\n",
    "if a < 12 :\n",
    "    print(True)\n",
    "else :\n",
    "     print(False)\n",
    "        \n",
    "# <= - lesser than or Equals to\n",
    "\n",
    "if a <= b :\n",
    "    print(True)\n",
    "else:\n",
    "    print(False)\n"
   ]
  },
  {
   "cell_type": "code",
   "execution_count": 6,
   "id": "75132194",
   "metadata": {},
   "outputs": [
    {
     "name": "stdout",
     "output_type": "stream",
     "text": [
      "True\n"
     ]
    }
   ],
   "source": [
    "# == - Equals operator\n",
    "\n",
    "a=10\n",
    "b=10\n",
    "\n",
    "if a == b:\n",
    "    print(True)\n",
    "else:\n",
    "    print(False)"
   ]
  },
  {
   "cell_type": "code",
   "execution_count": 7,
   "id": "8b2a79aa",
   "metadata": {},
   "outputs": [
    {
     "name": "stdout",
     "output_type": "stream",
     "text": [
      "True\n"
     ]
    }
   ],
   "source": [
    "# != - not equals to\n",
    "\n",
    "a=10\n",
    "b=13\n",
    "\n",
    "if a != b :\n",
    "    print(True)\n",
    "else :\n",
    "    print(False)"
   ]
  },
  {
   "cell_type": "code",
   "execution_count": null,
   "id": "06e91b59",
   "metadata": {},
   "outputs": [],
   "source": []
  }
 ],
 "metadata": {
  "kernelspec": {
   "display_name": "Python 3 (ipykernel)",
   "language": "python",
   "name": "python3"
  },
  "language_info": {
   "codemirror_mode": {
    "name": "ipython",
    "version": 3
   },
   "file_extension": ".py",
   "mimetype": "text/x-python",
   "name": "python",
   "nbconvert_exporter": "python",
   "pygments_lexer": "ipython3",
   "version": "3.9.12"
  }
 },
 "nbformat": 4,
 "nbformat_minor": 5
}
