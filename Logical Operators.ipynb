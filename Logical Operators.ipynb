{
 "cells": [
  {
   "cell_type": "markdown",
   "id": "8d13cfe6",
   "metadata": {},
   "source": [
    "ANd (&) Operator : if both the condition is true it will return true"
   ]
  },
  {
   "cell_type": "code",
   "execution_count": 12,
   "id": "13b6df76",
   "metadata": {},
   "outputs": [
    {
     "name": "stdout",
     "output_type": "stream",
     "text": [
      "Selected\n",
      "Selected\n"
     ]
    }
   ],
   "source": [
    "\n",
    "python = True\n",
    "java = True\n",
    "\n",
    "if python & java :\n",
    "    print(\"Selected\")\n",
    "else :\n",
    "    print(\"Next time\")\n",
    "    \n",
    "python = True\n",
    "java = True\n",
    "\n",
    "if python and java :\n",
    "    print(\"Selected\")\n",
    "else :\n",
    "    print(\"Next time\")"
   ]
  },
  {
   "cell_type": "markdown",
   "id": "e38c4c7a",
   "metadata": {},
   "source": [
    "OR( | ) operator: return true if one condition is true"
   ]
  },
  {
   "cell_type": "code",
   "execution_count": 13,
   "id": "1c0d3261",
   "metadata": {},
   "outputs": [
    {
     "name": "stdout",
     "output_type": "stream",
     "text": [
      "Good\n",
      "Good\n"
     ]
    }
   ],
   "source": [
    "python = True\n",
    "java = False\n",
    "\n",
    "if python | java :\n",
    "    print(\"Good\")\n",
    "else:\n",
    "    print(\"next tine\")\n",
    "    \n",
    "python = True\n",
    "java = False\n",
    "\n",
    "if python or java :\n",
    "    print(\"Good\")\n",
    "else:\n",
    "    print(\"next tine\")"
   ]
  },
  {
   "cell_type": "markdown",
   "id": "89daa3b9",
   "metadata": {},
   "source": [
    "NOT (!) operator"
   ]
  },
  {
   "cell_type": "code",
   "execution_count": 11,
   "id": "9542e14a",
   "metadata": {},
   "outputs": [
    {
     "name": "stdout",
     "output_type": "stream",
     "text": [
      "okay\n"
     ]
    }
   ],
   "source": [
    "java = True\n",
    "\n",
    "if not java :\n",
    "    print(\"Nooo\")\n",
    "else : \n",
    "    print(\"okay\")"
   ]
  },
  {
   "cell_type": "code",
   "execution_count": null,
   "id": "3db03fa3",
   "metadata": {},
   "outputs": [],
   "source": []
  }
 ],
 "metadata": {
  "kernelspec": {
   "display_name": "Python 3 (ipykernel)",
   "language": "python",
   "name": "python3"
  },
  "language_info": {
   "codemirror_mode": {
    "name": "ipython",
    "version": 3
   },
   "file_extension": ".py",
   "mimetype": "text/x-python",
   "name": "python",
   "nbconvert_exporter": "python",
   "pygments_lexer": "ipython3",
   "version": "3.9.12"
  }
 },
 "nbformat": 4,
 "nbformat_minor": 5
}
