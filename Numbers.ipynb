{
 "cells": [
  {
   "cell_type": "markdown",
   "id": "d97cad4d",
   "metadata": {},
   "source": [
    "# Numerical Operation\n"
   ]
  },
  {
   "cell_type": "code",
   "execution_count": 3,
   "id": "6cfa2093",
   "metadata": {},
   "outputs": [
    {
     "name": "stdout",
     "output_type": "stream",
     "text": [
      "10\n",
      "-13\n",
      "700273636535\n"
     ]
    }
   ],
   "source": [
    "print(10)\n",
    "print(-13)\n",
    "print(700273636535)"
   ]
  },
  {
   "cell_type": "code",
   "execution_count": 4,
   "id": "e3571418",
   "metadata": {},
   "outputs": [
    {
     "name": "stdout",
     "output_type": "stream",
     "text": [
      "7272\n"
     ]
    }
   ],
   "source": [
    "num=7272\n",
    "print(num)"
   ]
  },
  {
   "cell_type": "code",
   "execution_count": 12,
   "id": "bc41a1b2",
   "metadata": {},
   "outputs": [
    {
     "name": "stdout",
     "output_type": "stream",
     "text": [
      "72\n",
      "62\n",
      "40.0\n",
      "35\n",
      "336\n",
      "0\n",
      "9\n",
      "22\n"
     ]
    }
   ],
   "source": [
    "print(70+2)\n",
    "print(70-8)\n",
    "print(80/2)\n",
    "print(70//2)\n",
    "print(56*6)\n",
    "print(6%2)\n",
    "print(3**2)\n",
    "print(6+8*2)"
   ]
  },
  {
   "cell_type": "code",
   "execution_count": 13,
   "id": "7c7a272a",
   "metadata": {},
   "outputs": [
    {
     "name": "stdout",
     "output_type": "stream",
     "text": [
      "total is5636892\n"
     ]
    }
   ],
   "source": [
    "total=5636892\n",
    "\n",
    "# to print number with string use str() function\n",
    "print(\"total is\"+str(total))"
   ]
  },
  {
   "cell_type": "code",
   "execution_count": 18,
   "id": "67727663",
   "metadata": {},
   "outputs": [
    {
     "name": "stdout",
     "output_type": "stream",
     "text": [
      "768\n",
      "773\n"
     ]
    }
   ],
   "source": [
    "total=768\n",
    "print(total)\n",
    "#total=total+5 in shorter form\n",
    "total+=5\n",
    "print(total)"
   ]
  },
  {
   "cell_type": "code",
   "execution_count": 16,
   "id": "9323129e",
   "metadata": {},
   "outputs": [
    {
     "name": "stdout",
     "output_type": "stream",
     "text": [
      "20\n"
     ]
    }
   ],
   "source": [
    "total=10\n",
    "total*=2\n",
    "print(total)"
   ]
  },
  {
   "cell_type": "code",
   "execution_count": 17,
   "id": "4dadc89c",
   "metadata": {},
   "outputs": [
    {
     "name": "stdout",
     "output_type": "stream",
     "text": [
      "67\n"
     ]
    }
   ],
   "source": [
    "total=72\n",
    "total-=5\n",
    "print(total)"
   ]
  },
  {
   "cell_type": "markdown",
   "id": "4575fe7b",
   "metadata": {},
   "source": [
    "# number operations"
   ]
  },
  {
   "cell_type": "code",
   "execution_count": 26,
   "id": "82431d8f",
   "metadata": {},
   "outputs": [
    {
     "name": "stdout",
     "output_type": "stream",
     "text": [
      "73\n",
      "72\n",
      "16\n",
      "7\n",
      "4\n"
     ]
    }
   ],
   "source": [
    "#round()- return whole number \n",
    "num=72.876\n",
    "print(round(num))\n",
    "\n",
    "#abs()-return the absolute value of negative number\n",
    "num=-72\n",
    "print(abs(num))\n",
    "\n",
    "#pow()- return the power of the number\n",
    "print(pow(2,4))\n",
    "\n",
    "#max()-return the maximum number\n",
    "print(max(7,2))\n",
    "\n",
    "#min()-return the menumum number\n",
    "print(min(4,9))"
   ]
  },
  {
   "cell_type": "code",
   "execution_count": 27,
   "id": "6c8f5779",
   "metadata": {},
   "outputs": [
    {
     "name": "stdout",
     "output_type": "stream",
     "text": [
      "10.0\n"
     ]
    }
   ],
   "source": [
    "t=5+(100-50)/10\n",
    "print(t)"
   ]
  },
  {
   "cell_type": "code",
   "execution_count": null,
   "id": "2479290a",
   "metadata": {},
   "outputs": [],
   "source": []
  }
 ],
 "metadata": {
  "kernelspec": {
   "display_name": "Python 3 (ipykernel)",
   "language": "python",
   "name": "python3"
  },
  "language_info": {
   "codemirror_mode": {
    "name": "ipython",
    "version": 3
   },
   "file_extension": ".py",
   "mimetype": "text/x-python",
   "name": "python",
   "nbconvert_exporter": "python",
   "pygments_lexer": "ipython3",
   "version": "3.9.12"
  }
 },
 "nbformat": 4,
 "nbformat_minor": 5
}
