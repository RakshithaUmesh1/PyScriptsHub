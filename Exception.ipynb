{
 "cells": [
  {
   "cell_type": "markdown",
   "id": "e5564370",
   "metadata": {},
   "source": [
    "# In Python, an exception is an event that occurs during the execution of a program that disrupts the normal flow of instructions. \n",
    "It signifies that an error or an exceptional situation has arisen, \n",
    "which the program cannot handle gracefully in its current state. "
   ]
  },
  {
   "cell_type": "markdown",
   "id": "74f8ff5b",
   "metadata": {},
   "source": [
    "# EXception Handling\n",
    "Handle the exception using try except block"
   ]
  },
  {
   "cell_type": "code",
   "execution_count": 5,
   "id": "6ed380c9",
   "metadata": {},
   "outputs": [
    {
     "name": "stdout",
     "output_type": "stream",
     "text": [
      "Enter the the income7\n",
      "7\n"
     ]
    }
   ],
   "source": [
    "try:\n",
    "    income=int(input(\"Enter the the income\"))\n",
    "except valueError:\n",
    "    print(\"Please enter the right value\")\n",
    "\n",
    "print(income)"
   ]
  },
  {
   "cell_type": "code",
   "execution_count": 34,
   "id": "08bd95c9",
   "metadata": {},
   "outputs": [
    {
     "name": "stdout",
     "output_type": "stream",
     "text": [
      "Enter the number18\n",
      "Enter the number20\n",
      "num cant devide by zero\n",
      "its done\n",
      "2.3333333333333335\n"
     ]
    }
   ],
   "source": [
    "##if you assume that the error will come you can use try block\n",
    "try:\n",
    "    num1=int(input(\"Enter the number1\"))\n",
    "    num2=int(input(\"Enter the number2\"))\n",
    "    result=num1/num2\n",
    "##except block handle the error\n",
    "except:\n",
    "    if(num2==0):\n",
    "        print(\"num cant devide by zero\")\n",
    "##finall block will excute code wethere there is exception or not\n",
    "finally:\n",
    "    print(\"its done\")\n",
    "\n",
    "print(result)"
   ]
  },
  {
   "cell_type": "code",
   "execution_count": null,
   "id": "d1bab9e1",
   "metadata": {},
   "outputs": [],
   "source": []
  },
  {
   "cell_type": "code",
   "execution_count": null,
   "id": "92c7721b",
   "metadata": {},
   "outputs": [],
   "source": []
  }
 ],
 "metadata": {
  "kernelspec": {
   "display_name": "Python 3 (ipykernel)",
   "language": "python",
   "name": "python3"
  },
  "language_info": {
   "codemirror_mode": {
    "name": "ipython",
    "version": 3
   },
   "file_extension": ".py",
   "mimetype": "text/x-python",
   "name": "python",
   "nbconvert_exporter": "python",
   "pygments_lexer": "ipython3",
   "version": "3.9.12"
  }
 },
 "nbformat": 4,
 "nbformat_minor": 5
}
