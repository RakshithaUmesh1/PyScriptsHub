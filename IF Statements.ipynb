{
 "cells": [
  {
   "cell_type": "code",
   "execution_count": 1,
   "id": "d0ff85b9",
   "metadata": {},
   "outputs": [
    {
     "name": "stdout",
     "output_type": "stream",
     "text": [
      "True\n"
     ]
    }
   ],
   "source": [
    "a=10\n",
    "\n",
    "if a==10:\n",
    "    print(True)\n",
    "else :\n",
    "    print(False)"
   ]
  },
  {
   "cell_type": "code",
   "execution_count": 3,
   "id": "540abdbc",
   "metadata": {},
   "outputs": [
    {
     "name": "stdout",
     "output_type": "stream",
     "text": [
      "Pass\n"
     ]
    }
   ],
   "source": [
    "result=72\n",
    "\n",
    "if result > 50 :\n",
    "    print(\"Pass\")\n",
    "else :\n",
    "    print(\"just pass\")"
   ]
  },
  {
   "cell_type": "code",
   "execution_count": 5,
   "id": "e7dd9c55",
   "metadata": {},
   "outputs": [
    {
     "name": "stdout",
     "output_type": "stream",
     "text": [
      "Congratss\n"
     ]
    }
   ],
   "source": [
    "result=True\n",
    "\n",
    "if result:\n",
    "    print(\"Congratss\")\n",
    "else:\n",
    "    print(\"Better luck net time\")"
   ]
  },
  {
   "cell_type": "code",
   "execution_count": 9,
   "id": "830c6f65",
   "metadata": {},
   "outputs": [
    {
     "name": "stdout",
     "output_type": "stream",
     "text": [
      "Friday\n"
     ]
    }
   ],
   "source": [
    "day=6\n",
    "\n",
    "if day == 6 :\n",
    "    print(\"Friday\")\n",
    "elif day == 7 :\n",
    "    print(\"saturday\")\n",
    "else:\n",
    "    print(\"sunday\")"
   ]
  },
  {
   "cell_type": "code",
   "execution_count": 11,
   "id": "949ac2dc",
   "metadata": {},
   "outputs": [
    {
     "name": "stdout",
     "output_type": "stream",
     "text": [
      "Distinction\n"
     ]
    }
   ],
   "source": [
    "result=90\n",
    "\n",
    "if result > 85 :\n",
    "    print(\"Distinction\")\n",
    "elif result < 85 :\n",
    "    print (\"Just pass\")\n",
    "else :\n",
    "    print(\"Fail\")"
   ]
  },
  {
   "cell_type": "code",
   "execution_count": 13,
   "id": "ee64b1d5",
   "metadata": {},
   "outputs": [
    {
     "name": "stdout",
     "output_type": "stream",
     "text": [
      "90000.0\n"
     ]
    }
   ],
   "source": [
    "MobilePrice=450000\n",
    "is_googlepay=True\n",
    "\n",
    "if is_googlepay :\n",
    "    Discount=0.2*MobilePrice\n",
    "    print(Discount)\n",
    "else :\n",
    "    Discount=0.1*MobilePrice\n",
    "    print(Discount)"
   ]
  },
  {
   "cell_type": "code",
   "execution_count": null,
   "id": "be7b0060",
   "metadata": {},
   "outputs": [],
   "source": []
  }
 ],
 "metadata": {
  "kernelspec": {
   "display_name": "Python 3 (ipykernel)",
   "language": "python",
   "name": "python3"
  },
  "language_info": {
   "codemirror_mode": {
    "name": "ipython",
    "version": 3
   },
   "file_extension": ".py",
   "mimetype": "text/x-python",
   "name": "python",
   "nbconvert_exporter": "python",
   "pygments_lexer": "ipython3",
   "version": "3.9.12"
  }
 },
 "nbformat": 4,
 "nbformat_minor": 5
}
