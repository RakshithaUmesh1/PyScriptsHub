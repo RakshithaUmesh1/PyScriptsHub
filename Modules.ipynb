{
 "cells": [
  {
   "cell_type": "markdown",
   "id": "20ad9787",
   "metadata": {},
   "source": [
    "# Modules\n",
    "Access code from another python file"
   ]
  },
  {
   "cell_type": "markdown",
   "id": "9f3565b7",
   "metadata": {},
   "source": [
    "# import statment to import the python mudles"
   ]
  },
  {
   "cell_type": "code",
   "execution_count": 10,
   "id": "8b9b58c2",
   "metadata": {},
   "outputs": [],
   "source": [
    "import math\n",
    "import random"
   ]
  },
  {
   "cell_type": "markdown",
   "id": "1d03792c",
   "metadata": {},
   "source": [
    "# math – Mathematical Functions\n",
    "Used for performing mathematical operations."
   ]
  },
  {
   "cell_type": "code",
   "execution_count": 9,
   "id": "7bf3037b",
   "metadata": {},
   "outputs": [
    {
     "name": "stdout",
     "output_type": "stream",
     "text": [
      "4.0\n",
      "120\n",
      "3.141592653589793\n"
     ]
    }
   ],
   "source": [
    "import math\n",
    "\n",
    "print(math.sqrt(16))       # Square root: 4.0\n",
    "print(math.factorial(5))   # Factorial: 120\n",
    "print(math.pi)             # Value of Pi"
   ]
  },
  {
   "cell_type": "markdown",
   "id": "9f6203d5",
   "metadata": {},
   "source": [
    "# random – Generate Random Numbers"
   ]
  },
  {
   "cell_type": "code",
   "execution_count": 11,
   "id": "54704670",
   "metadata": {},
   "outputs": [
    {
     "name": "stdout",
     "output_type": "stream",
     "text": [
      "2\n",
      "b\n"
     ]
    }
   ],
   "source": [
    "import random\n",
    "\n",
    "print(random.randint(1, 10))           # Random int between 1 and 10\n",
    "print(random.choice(['a', 'b', 'c']))  # Randomly pick one"
   ]
  },
  {
   "cell_type": "markdown",
   "id": "edf615c6",
   "metadata": {},
   "source": [
    "# datetime – Date and Time Handling\n",
    "Used for working with dates and times.# "
   ]
  },
  {
   "cell_type": "code",
   "execution_count": 12,
   "id": "bc3d3883",
   "metadata": {},
   "outputs": [
    {
     "name": "stdout",
     "output_type": "stream",
     "text": [
      "2025-06-18 10:26:00.351761\n",
      "2025-06-18\n"
     ]
    }
   ],
   "source": [
    "import datetime\n",
    "\n",
    "now = datetime.datetime.now()\n",
    "print(now)  # Current date and time\n",
    "\n",
    "today = datetime.date.today()\n",
    "print(today)  # Today's date\n"
   ]
  },
  {
   "cell_type": "markdown",
   "id": "7b2ec72b",
   "metadata": {},
   "source": [
    "# time – Time-related Functions\n",
    "Used for delays and working with time."
   ]
  },
  {
   "cell_type": "code",
   "execution_count": 13,
   "id": "a35e7d71",
   "metadata": {},
   "outputs": [
    {
     "name": "stdout",
     "output_type": "stream",
     "text": [
      "Start\n",
      "End\n"
     ]
    }
   ],
   "source": [
    "import time\n",
    "\n",
    "print(\"Start\")\n",
    "time.sleep(2)   # Waits for 2 seconds\n",
    "print(\"End\")\n"
   ]
  },
  {
   "cell_type": "code",
   "execution_count": null,
   "id": "f8c5b05b",
   "metadata": {},
   "outputs": [],
   "source": []
  }
 ],
 "metadata": {
  "kernelspec": {
   "display_name": "Python 3 (ipykernel)",
   "language": "python",
   "name": "python3"
  },
  "language_info": {
   "codemirror_mode": {
    "name": "ipython",
    "version": 3
   },
   "file_extension": ".py",
   "mimetype": "text/x-python",
   "name": "python",
   "nbconvert_exporter": "python",
   "pygments_lexer": "ipython3",
   "version": "3.9.12"
  }
 },
 "nbformat": 4,
 "nbformat_minor": 5
}
