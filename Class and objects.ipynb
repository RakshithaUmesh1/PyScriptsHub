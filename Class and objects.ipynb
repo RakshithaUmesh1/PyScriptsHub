{
 "cells": [
  {
   "cell_type": "markdown",
   "id": "cf8f3b5d",
   "metadata": {},
   "source": [
    "# Class\n",
    "A class is a blueprint or template for creating objects (instances). \n",
    "It defines attributes (data) and methods (functions) that the created objects will have.\n",
    "\n",
    "object -Instance created from a class\n",
    "\n",
    "self -\tRefers to the current object\n",
    "\n",
    "__init__\tConstructor method that runs when object is created"
   ]
  },
  {
   "cell_type": "code",
   "execution_count": 31,
   "id": "163d63a5",
   "metadata": {},
   "outputs": [
    {
     "name": "stdout",
     "output_type": "stream",
     "text": [
      "Ghyanesh\n",
      "5\n"
     ]
    }
   ],
   "source": [
    "class Student:\n",
    "    name=\"Ghyanesh\"\n",
    "    def className(self,name):\n",
    "        return name\n",
    "    \n",
    "#Creating object\n",
    "student=Student()\n",
    "print(student.name)\n",
    "print(student.className(5))"
   ]
  },
  {
   "cell_type": "code",
   "execution_count": 34,
   "id": "a97a500e",
   "metadata": {},
   "outputs": [
    {
     "name": "stdout",
     "output_type": "stream",
     "text": [
      "Ghyanesh\n"
     ]
    }
   ],
   "source": [
    "class Student:\n",
    "    def __init__(self,name):\n",
    "        self.name = name\n",
    "    def details(self):\n",
    "        return self.name\n",
    "student=Student(\"Ghyanesh\")\n",
    "print(student.details())"
   ]
  },
  {
   "cell_type": "code",
   "execution_count": null,
   "id": "550ef4bc",
   "metadata": {},
   "outputs": [],
   "source": []
  }
 ],
 "metadata": {
  "kernelspec": {
   "display_name": "Python 3 (ipykernel)",
   "language": "python",
   "name": "python3"
  },
  "language_info": {
   "codemirror_mode": {
    "name": "ipython",
    "version": 3
   },
   "file_extension": ".py",
   "mimetype": "text/x-python",
   "name": "python",
   "nbconvert_exporter": "python",
   "pygments_lexer": "ipython3",
   "version": "3.9.12"
  }
 },
 "nbformat": 4,
 "nbformat_minor": 5
}
