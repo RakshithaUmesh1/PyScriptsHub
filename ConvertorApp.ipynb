{
 "cells": [
  {
   "cell_type": "code",
   "execution_count": 9,
   "id": "2fc0233a",
   "metadata": {},
   "outputs": [
    {
     "name": "stdout",
     "output_type": "stream",
     "text": [
      "Enter the distance travlled in kilometer or miles10\n",
      "input type i.e K for KM or M for Miles K\n",
      "you have covered6.215040397762586 miles\n"
     ]
    }
   ],
   "source": [
    "distance=int(input(\"Enter the distance travlled in kilometer or miles\"))\n",
    "unit=input(\"input type i.e K for KM or M for Miles \")\n",
    "\n",
    "if unit == \"K\"  or \"k\":\n",
    "    converted =  distance/1.609\n",
    "    print(f\"you have covered{converted} miles\")\n",
    "else:\n",
    "    converted = distance * 1.609\n",
    "    print(f\"you have covered {converted} kms\")"
   ]
  },
  {
   "cell_type": "code",
   "execution_count": null,
   "id": "c1897358",
   "metadata": {},
   "outputs": [],
   "source": []
  }
 ],
 "metadata": {
  "kernelspec": {
   "display_name": "Python 3 (ipykernel)",
   "language": "python",
   "name": "python3"
  },
  "language_info": {
   "codemirror_mode": {
    "name": "ipython",
    "version": 3
   },
   "file_extension": ".py",
   "mimetype": "text/x-python",
   "name": "python",
   "nbconvert_exporter": "python",
   "pygments_lexer": "ipython3",
   "version": "3.9.12"
  }
 },
 "nbformat": 4,
 "nbformat_minor": 5
}
