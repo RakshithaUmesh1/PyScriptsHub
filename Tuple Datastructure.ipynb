{
 "cells": [
  {
   "cell_type": "markdown",
   "id": "8f5a6c27",
   "metadata": {},
   "source": [
    "#A tuple in Python is a collection of items that are ordered and immutable. This means that once a tuple is created, its elements cannot be changed, added, or removed. Tuples are similar to lists, but they are defined using parentheses ()"
   ]
  },
  {
   "cell_type": "markdown",
   "id": "930d9999",
   "metadata": {},
   "source": [
    "\n",
    "Ordered: The elements in a tuple have a defined order, and this order is maintained.\n",
    "Immutable: Once a tuple is created, its elements cannot be modified.\n",
    "Heterogeneous: Tuples can hold elements of different data types (e.g., integers, strings, booleans).\n",
    "Indexed: Elements in a tuple can be accessed using their index, starting from 0.\n",
    "Defined with parentheses: Tuples are typically defined by enclosing elements within parentheses, separated by commas.\n",
    "Memory efficient: Tuples generally consume less memory than lists.\n",
    "Faster: Accessing elements in a tuple is typically faster than in a list due to their immutability.\n",
    "Duplicates Allowed: tuple can contain duplicate values."
   ]
  },
  {
   "cell_type": "code",
   "execution_count": 3,
   "id": "f96ecd69",
   "metadata": {},
   "outputs": [
    {
     "name": "stdout",
     "output_type": "stream",
     "text": [
      "('jani', 72, 'deepz', True, 65, 34, 72)\n"
     ]
    }
   ],
   "source": [
    "my_tuple=(\"jani\",72,\"deepz\",True,65,34,72)\n",
    "print(my_tuple)"
   ]
  },
  {
   "cell_type": "code",
   "execution_count": 13,
   "id": "efa1f767",
   "metadata": {},
   "outputs": [
    {
     "name": "stdout",
     "output_type": "stream",
     "text": [
      "72\n",
      "jani\n",
      "banana\n",
      "('jani', 72, 'deepz', True, 65, 34, 72, 'banana')\n",
      "('deepz', True, 65, 34)\n",
      "('banana', 72, 34, 65, True, 'deepz', 72, 'jani')\n"
     ]
    }
   ],
   "source": [
    "##acessing tuple using indexes\n",
    "\n",
    "my_tuple=(\"jani\",72,\"deepz\",True,65,34,72,\"banana\")\n",
    "print(my_tuple[1])\n",
    "\n",
    "#accessing 1st index\n",
    "print(my_tuple[0])\n",
    "\n",
    "#accessing last index\n",
    "print(my_tuple[-1])\n",
    "\n",
    "##accessing within range from 0 to last index \n",
    "print(my_tuple[::])\n",
    "\n",
    "print(my_tuple[2:6])\n",
    "\n",
    "##in reverse order\n",
    "print(my_tuple[::-1])"
   ]
  },
  {
   "cell_type": "code",
   "execution_count": 16,
   "id": "089716df",
   "metadata": {},
   "outputs": [
    {
     "name": "stdout",
     "output_type": "stream",
     "text": [
      "0\n",
      "3\n"
     ]
    }
   ],
   "source": [
    "##index() to get the index of given index\n",
    "\n",
    "my_tuple=(\"jani\",72,\"deepz\",True,65,34,72,\"banana\")\n",
    "print(my_tuple.index(\"jani\"))\n",
    "\n",
    "print(my_tuple.index(True))\n"
   ]
  },
  {
   "cell_type": "code",
   "execution_count": 17,
   "id": "95a3f6c2",
   "metadata": {},
   "outputs": [
    {
     "name": "stdout",
     "output_type": "stream",
     "text": [
      "True\n"
     ]
    }
   ],
   "source": [
    "# in operator to check wheather element is present or not within the list\n",
    "\n",
    "my_tuple=(\"jani\",72,\"deepz\",True,65,34,72,\"banana\")\n",
    "print(\"jani\" in my_tuple)"
   ]
  },
  {
   "cell_type": "code",
   "execution_count": 18,
   "id": "8c3fd6e1",
   "metadata": {},
   "outputs": [
    {
     "name": "stdout",
     "output_type": "stream",
     "text": [
      "2\n"
     ]
    }
   ],
   "source": [
    "##count() to count the number of appearance of elemnt\n",
    "\n",
    "my_tuple=(\"jani\",72,\"deepz\",True,65,34,72,\"banana\")\n",
    "print(my_tuple.count(72))"
   ]
  },
  {
   "cell_type": "code",
   "execution_count": null,
   "id": "098b0f87",
   "metadata": {},
   "outputs": [],
   "source": []
  }
 ],
 "metadata": {
  "kernelspec": {
   "display_name": "Python 3 (ipykernel)",
   "language": "python",
   "name": "python3"
  },
  "language_info": {
   "codemirror_mode": {
    "name": "ipython",
    "version": 3
   },
   "file_extension": ".py",
   "mimetype": "text/x-python",
   "name": "python",
   "nbconvert_exporter": "python",
   "pygments_lexer": "ipython3",
   "version": "3.9.12"
  }
 },
 "nbformat": 4,
 "nbformat_minor": 5
}
