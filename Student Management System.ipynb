{
 "cells": [
  {
   "cell_type": "markdown",
   "id": "d81a38c6",
   "metadata": {},
   "source": [
    "# Runs data analyssis on student marks\n",
    "\n",
    "#Find - higher Scored in a subject\n",
    "      - higher marks"
   ]
  },
  {
   "cell_type": "code",
   "execution_count": 17,
   "id": "1d978647",
   "metadata": {},
   "outputs": [
    {
     "name": "stdout",
     "output_type": "stream",
     "text": [
      "Highest_Score_in_Maths - 72, Highest_Score_in_Maths_name - Ghyanesh\n"
     ]
    }
   ],
   "source": [
    "def highest_Score_in_Maths():\n",
    "    student_1 = {\n",
    "        \"Name\": \"Ghyanesh\",\n",
    "        \"Maths\": 72,\n",
    "        \"Social\": 56,\n",
    "        \"Science\": 67,\n",
    "        \"English\": 85\n",
    "    }\n",
    "    student_2 = {\n",
    "        \"Name\": \"Deepa\",\n",
    "        \"Maths\": 62,\n",
    "        \"Social\": 66,\n",
    "        \"Science\": 57,\n",
    "        \"English\": 59\n",
    "    }\n",
    "    student_3 = {\n",
    "        \"Name\": \"Dixa\",\n",
    "        \"Maths\": 65,\n",
    "        \"Social\": 87,\n",
    "        \"Science\": 59,\n",
    "        \"English\": 87\n",
    "    }\n",
    "    student_4 = {\n",
    "        \"Name\": \"Suraksha\",\n",
    "        \"Maths\": 68,\n",
    "        \"Social\": 56,\n",
    "        \"Science\": 67,\n",
    "        \"English\": 85\n",
    "    }\n",
    "    student_5 = {\n",
    "        \"Name\": \"Shreya\",\n",
    "        \"Maths\": 52,\n",
    "        \"Social\": 76,\n",
    "        \"Science\": 74,\n",
    "        \"English\": 47\n",
    "    }\n",
    "\n",
    "    student_list = [student_1, student_2, student_3, student_4, student_5]\n",
    "    highest_score_in_maths = 0\n",
    "    highest_score_name = \"\"\n",
    "\n",
    "    for student in student_list:\n",
    "        if student.get(\"Maths\") > highest_score_in_maths:\n",
    "            highest_score_in_maths = student.get(\"Maths\")\n",
    "            highest_score_name = student.get(\"Name\")\n",
    "\n",
    "    print(f\"Highest_Score_in_Maths - {highest_score_in_maths}, Highest_Score_in_Maths_name - {highest_score_name}\")\n",
    "\n",
    "highest_Score_in_Maths()\n"
   ]
  },
  {
   "cell_type": "code",
   "execution_count": null,
   "id": "109b23c3",
   "metadata": {},
   "outputs": [],
   "source": []
  }
 ],
 "metadata": {
  "kernelspec": {
   "display_name": "Python 3 (ipykernel)",
   "language": "python",
   "name": "python3"
  },
  "language_info": {
   "codemirror_mode": {
    "name": "ipython",
    "version": 3
   },
   "file_extension": ".py",
   "mimetype": "text/x-python",
   "name": "python",
   "nbconvert_exporter": "python",
   "pygments_lexer": "ipython3",
   "version": "3.9.12"
  }
 },
 "nbformat": 4,
 "nbformat_minor": 5
}
