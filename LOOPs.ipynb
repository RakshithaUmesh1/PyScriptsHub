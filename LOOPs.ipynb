{
 "cells": [
  {
   "cell_type": "markdown",
   "id": "d2804b13",
   "metadata": {},
   "source": [
    "# LOOPS\n",
    "\n",
    "In Python, loops are control flow structures \n",
    "that allow you to execute a block of code repeatedly. \n",
    "\n",
    "They are essential for automating repetitive tasks and iterating over collections of data.\n",
    "Python primarily offers two types of loops: for loops and while loops."
   ]
  },
  {
   "cell_type": "markdown",
   "id": "91d8563f",
   "metadata": {},
   "source": [
    "# FOR Loop\n",
    "\n",
    "The for loop in Python is a control flow statement that iterates over a sequence of items, such as a list, tuple, string, or range. It executes a block of code repeatedly for each item in the sequence."
   ]
  },
  {
   "cell_type": "code",
   "execution_count": 4,
   "id": "cdc5f9db",
   "metadata": {},
   "outputs": [
    {
     "name": "stdout",
     "output_type": "stream",
     "text": [
      "0\n",
      "1\n",
      "2\n",
      "3\n",
      "4\n",
      "5\n",
      "6\n",
      "7\n",
      "8\n",
      "9\n"
     ]
    }
   ],
   "source": [
    "for i in range(10):\n",
    "    print(i)"
   ]
  },
  {
   "cell_type": "code",
   "execution_count": 6,
   "id": "7eee2bc2",
   "metadata": {},
   "outputs": [
    {
     "name": "stdout",
     "output_type": "stream",
     "text": [
      "2\n",
      "4\n",
      "5\n",
      "6\n",
      "8\n",
      "9\n"
     ]
    }
   ],
   "source": [
    "numbs=(2,4,5,6,8,9)\n",
    "\n",
    "for i in numbs:\n",
    "    print(i)"
   ]
  },
  {
   "cell_type": "code",
   "execution_count": 13,
   "id": "4b34ba45",
   "metadata": {},
   "outputs": [
    {
     "name": "stdout",
     "output_type": "stream",
     "text": [
      "10\n",
      "11\n",
      "12\n",
      "13\n",
      "14\n",
      "15\n",
      "16\n",
      "17\n",
      "18\n",
      "19\n"
     ]
    }
   ],
   "source": [
    "\n",
    "for i in range(10,20):\n",
    "    print(i)\n",
    "    "
   ]
  },
  {
   "cell_type": "code",
   "execution_count": 14,
   "id": "6eb534d5",
   "metadata": {},
   "outputs": [
    {
     "name": "stdout",
     "output_type": "stream",
     "text": [
      "10\n",
      "12\n",
      "14\n",
      "16\n",
      "18\n"
     ]
    }
   ],
   "source": [
    "for i in range(10,20,2):\n",
    "    print(i)"
   ]
  },
  {
   "cell_type": "code",
   "execution_count": 27,
   "id": "58593cc3",
   "metadata": {},
   "outputs": [
    {
     "name": "stdout",
     "output_type": "stream",
     "text": [
      "1\n",
      "2\n",
      "3\n",
      "4\n",
      "5\n",
      "6\n",
      "7\n",
      "8\n",
      "9\n",
      "10\n",
      "11\n",
      "12\n",
      "13\n",
      "14\n",
      "15\n",
      "16\n",
      "17\n",
      "18\n",
      "19\n",
      "20\n",
      "21\n",
      "22\n",
      "23\n",
      "24\n"
     ]
    }
   ],
   "source": [
    "num=24\n",
    "for i in range(num):\n",
    "    i+=1\n",
    "    print(i)"
   ]
  },
  {
   "cell_type": "markdown",
   "id": "6360e9eb",
   "metadata": {},
   "source": [
    "# 2D list\n"
   ]
  },
  {
   "cell_type": "code",
   "execution_count": 36,
   "id": "039dbad6",
   "metadata": {},
   "outputs": [
    {
     "name": "stdout",
     "output_type": "stream",
     "text": [
      "[['Jani', 8, 72, 'Deepz', 'mango', 24], [5, 3, 'h', True], [4, 2, 'j', 'n', False]]\n",
      "['Jani', 8, 72, 'Deepz', 'mango', 24]\n",
      "5\n"
     ]
    }
   ],
   "source": [
    "list1=[[\"Jani\",8,72,'Deepz','mango',24],\n",
    "      [5,3,\"h\",True],\n",
    "      [4,2,'j','n',False]]\n",
    "print(list1)\n",
    "print(list1[0])\n",
    "print(list1 [1][0])"
   ]
  },
  {
   "cell_type": "markdown",
   "id": "7635ea54",
   "metadata": {},
   "source": [
    "# Nested loop\n",
    "loop inside the loop"
   ]
  },
  {
   "cell_type": "code",
   "execution_count": 40,
   "id": "484b467a",
   "metadata": {},
   "outputs": [
    {
     "name": "stdout",
     "output_type": "stream",
     "text": [
      "['Jani', 8, 72, 'Deepz', 'mango', 24]\n",
      "Jani\n",
      "8\n",
      "72\n",
      "Deepz\n",
      "mango\n",
      "24\n",
      "[5, 3, 'h', True]\n",
      "5\n",
      "3\n",
      "h\n",
      "True\n",
      "[4, 2, 'j', 'n', False]\n",
      "4\n",
      "2\n",
      "j\n",
      "n\n",
      "False\n"
     ]
    }
   ],
   "source": [
    "list1=[[\"Jani\",8,72,'Deepz','mango',24],\n",
    "      [5,3,\"h\",True],\n",
    "      [4,2,'j','n',False]]\n",
    "for i in list1:\n",
    "    print(i)\n",
    "    for j in i:\n",
    "        print(j)"
   ]
  },
  {
   "cell_type": "markdown",
   "id": "a52a351a",
   "metadata": {},
   "source": [
    "# While LOOP\n",
    "The while loop in Python is a control flow statement\n",
    "that repeatedly executes a block of code as long as a specified condition remains true."
   ]
  },
  {
   "cell_type": "code",
   "execution_count": 30,
   "id": "4f9cc8c5",
   "metadata": {},
   "outputs": [
    {
     "name": "stdout",
     "output_type": "stream",
     "text": [
      "1\n",
      "2\n",
      "3\n",
      "4\n",
      "5\n",
      "6\n",
      "7\n",
      "8\n",
      "9\n",
      "10\n",
      "Completed\n"
     ]
    }
   ],
   "source": [
    "i = 1\n",
    "while i<=10:\n",
    "    print(i)\n",
    "    i=i+1\n",
    "print(\"Completed\")"
   ]
  },
  {
   "cell_type": "code",
   "execution_count": 7,
   "id": "b11974bd",
   "metadata": {},
   "outputs": [
    {
     "name": "stdout",
     "output_type": "stream",
     "text": [
      "1\n",
      "4\n",
      "9\n",
      "16\n",
      "25\n",
      "36\n",
      "49\n",
      "64\n",
      "81\n",
      "100\n",
      "121\n",
      "144\n",
      "169\n",
      "196\n",
      "225\n",
      "256\n",
      "289\n",
      "324\n",
      "361\n",
      "400\n"
     ]
    }
   ],
   "source": [
    "num=1\n",
    "while num <=20 :\n",
    "    print(num*num)\n",
    "    num=num+1"
   ]
  },
  {
   "cell_type": "code",
   "execution_count": 8,
   "id": "cb12677e",
   "metadata": {},
   "outputs": [
    {
     "name": "stdout",
     "output_type": "stream",
     "text": [
      "1\n",
      "2\n",
      "3\n",
      "4\n",
      "5\n",
      "6\n",
      "7\n",
      "8\n",
      "9\n",
      "10\n",
      "11\n",
      "12\n",
      "13\n",
      "14\n",
      "15\n",
      "16\n",
      "17\n",
      "18\n",
      "19\n",
      "20\n",
      "21\n",
      "22\n",
      "23\n",
      "24\n"
     ]
    }
   ],
   "source": [
    "num=1\n",
    "while num < 25:\n",
    "    print(num)\n",
    "    num+=1\n"
   ]
  },
  {
   "cell_type": "code",
   "execution_count": 10,
   "id": "9560dee0",
   "metadata": {},
   "outputs": [
    {
     "name": "stdout",
     "output_type": "stream",
     "text": [
      "1\n",
      "2\n",
      "3\n",
      "4\n",
      "5\n",
      "6\n",
      "7\n",
      "8\n",
      "9\n",
      "10\n",
      "11\n",
      "12\n",
      "13\n"
     ]
    }
   ],
   "source": [
    "#break statement - break the itteration when condition hit\n",
    "num=1\n",
    "while num < 25:\n",
    "    if num==14 :\n",
    "        break\n",
    "    print(num)\n",
    "    num+=1\n"
   ]
  },
  {
   "cell_type": "code",
   "execution_count": 2,
   "id": "f18eee36",
   "metadata": {
    "scrolled": true
   },
   "outputs": [
    {
     "name": "stdout",
     "output_type": "stream",
     "text": [
      "Enter your number: 8\n",
      "Enter your number: 72\n",
      "you won\n"
     ]
    }
   ],
   "source": [
    "number = 72\n",
    "chance = 0\n",
    "\n",
    "while chance < 3:\n",
    "    guess = int(input(\"Enter your number: \")) \n",
    "    chance += 1\n",
    "    \n",
    "    if guess == number:\n",
    "         break\n",
    "        \n",
    "print(\"you won\")\n"
   ]
  },
  {
   "cell_type": "code",
   "execution_count": null,
   "id": "a6ff3b6c",
   "metadata": {},
   "outputs": [],
   "source": []
  },
  {
   "cell_type": "code",
   "execution_count": null,
   "id": "9b69822a",
   "metadata": {},
   "outputs": [],
   "source": []
  }
 ],
 "metadata": {
  "kernelspec": {
   "display_name": "Python 3 (ipykernel)",
   "language": "python",
   "name": "python3"
  },
  "language_info": {
   "codemirror_mode": {
    "name": "ipython",
    "version": 3
   },
   "file_extension": ".py",
   "mimetype": "text/x-python",
   "name": "python",
   "nbconvert_exporter": "python",
   "pygments_lexer": "ipython3",
   "version": "3.9.12"
  }
 },
 "nbformat": 4,
 "nbformat_minor": 5
}
