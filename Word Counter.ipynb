{
 "cells": [
  {
   "cell_type": "markdown",
   "id": "43b437b9",
   "metadata": {},
   "source": [
    "# Word Counter\n",
    "Count the number of a particular word in simple text"
   ]
  },
  {
   "cell_type": "code",
   "execution_count": 8,
   "id": "b9f00314",
   "metadata": {},
   "outputs": [
    {
     "name": "stdout",
     "output_type": "stream",
     "text": [
      "['this', 'is', 'a', 'normal', 'text', 'this', 'text', 'is', 'normal', '', 'lets', 'learn', 'text']\n",
      "3\n"
     ]
    }
   ],
   "source": [
    "text_variable=\"this is a normal text this text is normal  lets learn text\"\n",
    "\n",
    "count=0\n",
    "word_list=text_variable.split(\" \")\n",
    "print(word_list)\n",
    "\n",
    "for everyword in word_list:\n",
    "    if(\"text\"==everyword):\n",
    "        count=count+1\n",
    "print(count)"
   ]
  },
  {
   "cell_type": "code",
   "execution_count": null,
   "id": "4180224d",
   "metadata": {},
   "outputs": [],
   "source": []
  },
  {
   "cell_type": "code",
   "execution_count": null,
   "id": "dadb68de",
   "metadata": {},
   "outputs": [],
   "source": []
  }
 ],
 "metadata": {
  "kernelspec": {
   "display_name": "Python 3 (ipykernel)",
   "language": "python",
   "name": "python3"
  },
  "language_info": {
   "codemirror_mode": {
    "name": "ipython",
    "version": 3
   },
   "file_extension": ".py",
   "mimetype": "text/x-python",
   "name": "python",
   "nbconvert_exporter": "python",
   "pygments_lexer": "ipython3",
   "version": "3.9.12"
  }
 },
 "nbformat": 4,
 "nbformat_minor": 5
}
